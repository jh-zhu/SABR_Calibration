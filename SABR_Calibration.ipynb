{
 "cells": [
  {
   "cell_type": "markdown",
   "metadata": {},
   "source": [
    "## FX Model Computer Assigment \n",
    "### Jiahao Zhu, N14368952, jz3511"
   ]
  },
  {
   "cell_type": "code",
   "execution_count": 34,
   "metadata": {},
   "outputs": [],
   "source": [
    "import numpy as np\n",
    "from scipy.stats import norm\n",
    "from scipy.optimize import fsolve\n",
    "from scipy.optimize import least_squares\n",
    "import matplotlib.pyplot as plt"
   ]
  },
  {
   "cell_type": "markdown",
   "metadata": {},
   "source": [
    "## Calibration"
   ]
  },
  {
   "cell_type": "code",
   "execution_count": 2,
   "metadata": {},
   "outputs": [],
   "source": [
    "# foreign currency interest rate,USD\n",
    "r_f = 0.022\n",
    "# domestic currency interest rate,BRL\n",
    "r_d = 0.065\n",
    "# spot rate\n",
    "spot = 3.724\n",
    "\n",
    "# discount factor in foreign currency, as a funtion of time\n",
    "P = lambda T:np.exp(-r_f*T)\n",
    "# forward rate, as a function of time\n",
    "F = lambda T:spot*np.exp((r_d - r_f)*T)\n",
    "\n",
    "# fomula for call delta, as a function of K\n",
    "def callK(K):\n",
    "    return P(T) * (K/F(T))*norm.cdf((np.log(spot/K)+(r_d-r_f -0.5*v*v)*T)/(v*np.sqrt(T))) -0.25\n",
    "\n",
    "# formula for put delta, as a function of K\n",
    "\n",
    "def putK(K):\n",
    "    return -P(T) * (K/F(T))*norm.cdf(-(np.log(spot/K)+(r_d-r_f -0.5*v*v)*T)/(v*np.sqrt(T))) + 0.25\n",
    "\n",
    "\n",
    "# z used in Hagan\n",
    "def findz(K,alpha,beta,nu):\n",
    "    return (nu/alpha)*(F(T)*K)**((1-beta)/2)*np.log(F(T)/K)\n",
    "\n",
    "# x used in Hagan\n",
    "def x(z,rho):\n",
    "    return np.log((np.sqrt(1-2*rho*z+z**2)+z-rho)/(1-rho))\n",
    "    \n",
    "\n",
    "# volatility function using SABR Hagan approximation, as a function of K,alpha,beta,rho,nu\n",
    "def vol(K,alpha,beta,rho,nu):\n",
    "    z = findz(K,alpha,beta,nu)\n",
    "    return (alpha/( (F(T)*K)**((1-beta)/2) * (1+ (1-beta)**2*(np.log(F(T)/K))**2/24 + (1-beta)**4*(np.log(F(T)/K))**4/1920)))\\\n",
    "*(z/x(z,rho))\\\n",
    "*(1+(((1-beta)**2*alpha**2)/(24*(F(T)*K)**(1-beta))+(0.25*rho*beta*nu*alpha)/((F(T)*K)**((1-beta)/2))+((2-3*rho**2)*nu**2)/(24))*T)\n",
    "        \n",
    "# function to use vol to find parameters\n",
    "def findP(Param):\n",
    "    alpha,rho,nu = Param[0],Param[1],Param[2]\n",
    "    return[vol(K_ATM,alpha,beta,rho,nu)-atm,\\\n",
    "          vol(K_RR_call,alpha,beta,rho,nu)-vol(K_RR_put,alpha,beta,rho,nu)-rr,\\\n",
    "          (vol(K_BF_call,alpha,beta,rho,nu)+vol(K_BF_put,alpha,beta,rho,nu))/2 - vol(K_ATM,alpha,beta,rho,nu) - bf]\n",
    "                                            \n",
    "                                            \n",
    "                                            \n",
    "\n"
   ]
  },
  {
   "cell_type": "code",
   "execution_count": 24,
   "metadata": {},
   "outputs": [
    {
     "name": "stdout",
     "output_type": "stream",
     "text": [
      "K_ATM is 3.850034769950248\n",
      "K_RRcall is 4.318133722512803\n",
      "K_RRput is 3.5702190461507897\n",
      "K_BFcall is 4.277073911318569\n",
      "K_BFput is 3.5368504017952054\n"
     ]
    }
   ],
   "source": [
    "# Market Quotes, subject to change based on the table given\n",
    "T = 1\n",
    "atm = 0.1394\n",
    "rr = 0.029\n",
    "bf = 0.0055\n",
    "\n",
    "# solve atm K\n",
    "K_ATM = np.exp(-0.5*atm*atm*T)*F(T)\n",
    "print(\"K_ATM is {}\".format(K_ATM))\n",
    "\n",
    "# solve K_RRcall\n",
    "v = atm + bf + rr/2\n",
    "K_RR_call = fsolve(callK,[spot])[0]\n",
    "print(\"K_RRcall is {}\".format(K_RR_call))\n",
    "\n",
    "# solve K_RRput\n",
    "v = atm + bf -rr/2\n",
    "K_RR_put = fsolve(putK,[spot])[0]\n",
    "print(\"K_RRput is {}\".format(K_RR_put))\n",
    "\n",
    "# solve for K_BFcall\n",
    "v = atm + bf\n",
    "K_BF_call = fsolve(callK,[spot])[0]\n",
    "print(\"K_BFcall is {}\".format(K_BF_call))\n",
    "\n",
    "# solve for K_BFput\n",
    "v = atm + bf\n",
    "K_BF_put = fsolve(putK,[spot])[0]\n",
    "print(\"K_BFput is {}\".format(K_BF_put))\n"
   ]
  },
  {
   "cell_type": "code",
   "execution_count": 25,
   "metadata": {},
   "outputs": [
    {
     "name": "stdout",
     "output_type": "stream",
     "text": [
      "alpha is 0.2684396892778542, rho is 0.5027944050918539, and nu is 0.7391841142834429\n"
     ]
    }
   ],
   "source": [
    "# solve for parameters\n",
    "\n",
    "# determine beta\n",
    "beta = 0.5\n",
    "\n",
    "# find parameters with bound\n",
    "params = least_squares(findP,[0.6,0,5],bounds = ([1e-5,-1+1e-5,0],[np.inf,1-1e-5,np.inf]))\n",
    "\n",
    "alpha,rho,nu = params['x'][0],params['x'][1],params['x'][2]\n",
    "\n",
    "print(\"alpha is {}, rho is {}, and nu is {}\".format(alpha,rho,nu))\n"
   ]
  },
  {
   "cell_type": "code",
   "execution_count": 26,
   "metadata": {},
   "outputs": [
    {
     "name": "stdout",
     "output_type": "stream",
     "text": [
      "vol_ATM is 0.1394000007569008\n",
      "vol_RRCall is 0.16059262001160007\n",
      "vol_RRPut is 0.13159262341724406\n",
      "vol_BFCall is 0.15862685061882756\n",
      "vol_BFPut is 0.13117315819083442\n"
     ]
    }
   ],
   "source": [
    "# Find implied Vol\n",
    "\n",
    "# vol_ATM\n",
    "vol_ATM = vol(K_ATM,alpha,beta,rho,nu)\n",
    "print(\"vol_ATM is {}\".format(vol_ATM))\n",
    "\n",
    "# vol_RRCall\n",
    "vol_RRCall = vol(K_RR_call,alpha,beta,rho,nu)\n",
    "print(\"vol_RRCall is {}\".format(vol_RRCall))\n",
    "\n",
    "# vol_RRPut\n",
    "vol_RRPut = vol(K_RR_put,alpha,beta,rho,nu)\n",
    "print(\"vol_RRPut is {}\".format(vol_RRPut))\n",
    "\n",
    "# vol_BFCall\n",
    "vol_BFCall = vol(K_BF_call,alpha,beta,rho,nu)\n",
    "print(\"vol_BFCall is {}\".format(vol_BFCall))\n",
    "\n",
    "# vol_BFPut\n",
    "vol_BFPut = vol(K_BF_put,alpha,beta,rho,nu)\n",
    "print(\"vol_BFPut is {}\".format(vol_BFPut))\n"
   ]
  },
  {
   "cell_type": "markdown",
   "metadata": {},
   "source": [
    "## volatility smile"
   ]
  },
  {
   "cell_type": "code",
   "execution_count": 29,
   "metadata": {},
   "outputs": [],
   "source": [
    "# fomula for call delta, as a function of K, to solve delta = -.1 case\n",
    "def callK_1(K):\n",
    "    return P(T) * (K/F(T))*norm.cdf((np.log(spot/K)+(r_d-r_f -0.5*v*v)*T)/(v*np.sqrt(T))) - 0.1\n",
    "\n",
    "# formula for put delta, as a function of K, to solve delta = 0.1 case\n",
    "\n",
    "def putK_1(K):\n",
    "    return -P(T) * (K/F(T))*norm.cdf(-(np.log(spot/K)+(r_d-r_f -0.5*v*v)*T)/(v*np.sqrt(T))) + 0.1"
   ]
  },
  {
   "cell_type": "code",
   "execution_count": 31,
   "metadata": {},
   "outputs": [
    {
     "name": "stdout",
     "output_type": "stream",
     "text": [
      "The strike for 0.1 delta call is 4.694823173449\n",
      "The strike for -0.1 delta put is 3.250090788071198\n"
     ]
    }
   ],
   "source": [
    "strike_call = fsolve(callK_1,[spot])[0]\n",
    "print(\"The strike for 0.1 delta call is {}\".format(strike_call))\n",
    "\n",
    "strike_put = fsolve(putK_1,[spot])[0]\n",
    "print(\"The strike for -0.1 delta put is {}\".format(strike_put))"
   ]
  },
  {
   "cell_type": "code",
   "execution_count": 36,
   "metadata": {},
   "outputs": [
    {
     "data": {
      "image/png": "[encoded data removed]",
      "text/plain": [
       "<Figure size 432x288 with 1 Axes>"
      ]
     },
     "metadata": {
      "needs_background": "light"
     },
     "output_type": "display_data"
    }
   ],
   "source": [
    "# get volalitity smile for this range of strikes\n",
    "\n",
    "# strikes\n",
    "strikes = list(np.arange(strike_put,strike_call,0.01))\n",
    "# implied vols\n",
    "vols = [vol(K,alpha,beta,rho,nu) for K in strikes]\n",
    "\n",
    "# plot\n",
    "plt.plot(strikes,vols)\n",
    "plt.title(\"implied volatility\")\n",
    "plt.xlabel(\"strikes\")\n",
    "plt.ylabel(\"volatilities\")\n",
    "plt.show()\n"
   ]
  }
 ],
 "metadata": {
  "kernelspec": {
   "display_name": "Python 3",
   "language": "python",
   "name": "python3"
  },
  "language_info": {
   "codemirror_mode": {
    "name": "ipython",
    "version": 3
   },
   "file_extension": ".py",
   "mimetype": "text/x-python",
   "name": "python",
   "nbconvert_exporter": "python",
   "pygments_lexer": "ipython3",
   "version": "3.7.2"
  }
 },
 "nbformat": 4,
 "nbformat_minor": 2
}
